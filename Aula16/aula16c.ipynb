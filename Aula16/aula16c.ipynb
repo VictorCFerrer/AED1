{
 "cells": [
  {
   "cell_type": "markdown",
   "id": "28c979af",
   "metadata": {},
   "source": [
    "# AULA 16 - Noções do pacote PANDAS -  parte C\n",
    "## Algoritmos e Estrutura de Dados I - Prof. Piva\n",
    "-----------"
   ]
  },
  {
   "cell_type": "markdown",
   "id": "6e23b207",
   "metadata": {},
   "source": [
    "### Dividindo Strings em DataFrames com Pandas (split)\n",
    "Com Pandas, podemos fazer várias tarefas de divisão (split) de strings, dividindo colunas ou extraindo elementos."
   ]
  },
  {
   "cell_type": "code",
   "execution_count": 1,
   "id": "043c4e25",
   "metadata": {},
   "outputs": [
    {
     "data": {
      "text/plain": [
       "'2.2.2'"
      ]
     },
     "execution_count": 1,
     "metadata": {},
     "output_type": "execute_result"
    }
   ],
   "source": [
    "# Importando o Pandas\n",
    "import pandas as pd\n",
    "# Verificando a Versão do Pandas\n",
    "pd.__version__"
   ]
  },
  {
   "cell_type": "code",
   "execution_count": 2,
   "id": "b02a2dbb",
   "metadata": {},
   "outputs": [],
   "source": [
    "# Importando um dataset que está em um arquivo CSV\n",
    "df = pd.read_csv(\"dataset.csv\")"
   ]
  },
  {
   "cell_type": "code",
   "execution_count": 3,
   "id": "d39b9ae7",
   "metadata": {},
   "outputs": [
    {
     "data": {
      "text/html": [
       "<div>\n",
       "<style scoped>\n",
       "    .dataframe tbody tr th:only-of-type {\n",
       "        vertical-align: middle;\n",
       "    }\n",
       "\n",
       "    .dataframe tbody tr th {\n",
       "        vertical-align: top;\n",
       "    }\n",
       "\n",
       "    .dataframe thead th {\n",
       "        text-align: right;\n",
       "    }\n",
       "</style>\n",
       "<table border=\"1\" class=\"dataframe\">\n",
       "  <thead>\n",
       "    <tr style=\"text-align: right;\">\n",
       "      <th></th>\n",
       "      <th>ID_Pedido</th>\n",
       "      <th>Data_Pedido</th>\n",
       "      <th>ID_Cliente</th>\n",
       "      <th>Segmento</th>\n",
       "      <th>Pais</th>\n",
       "      <th>Regiao</th>\n",
       "      <th>ID_Produto</th>\n",
       "      <th>Categoria</th>\n",
       "      <th>Nome_Produto</th>\n",
       "      <th>Valor_Venda</th>\n",
       "      <th>Quantidade</th>\n",
       "    </tr>\n",
       "  </thead>\n",
       "  <tbody>\n",
       "    <tr>\n",
       "      <th>0</th>\n",
       "      <td>CA-2016-152156</td>\n",
       "      <td>2016-11-08</td>\n",
       "      <td>CG-12520</td>\n",
       "      <td>Consumer</td>\n",
       "      <td>United States</td>\n",
       "      <td>South</td>\n",
       "      <td>FUR-BO-10001798</td>\n",
       "      <td>Furniture</td>\n",
       "      <td>Bush Somerset Collection Bookcase</td>\n",
       "      <td>261.9600</td>\n",
       "      <td>NaN</td>\n",
       "    </tr>\n",
       "    <tr>\n",
       "      <th>1</th>\n",
       "      <td>CA-2016-152156</td>\n",
       "      <td>2016-11-08</td>\n",
       "      <td>CG-12520</td>\n",
       "      <td>Consumer</td>\n",
       "      <td>United States</td>\n",
       "      <td>South</td>\n",
       "      <td>FUR-CH-10000454</td>\n",
       "      <td>Furniture</td>\n",
       "      <td>Hon Deluxe Fabric Upholstered Stacking Chairs,...</td>\n",
       "      <td>731.9400</td>\n",
       "      <td>NaN</td>\n",
       "    </tr>\n",
       "    <tr>\n",
       "      <th>2</th>\n",
       "      <td>CA-2016-138688</td>\n",
       "      <td>2016-06-12</td>\n",
       "      <td>DV-13045</td>\n",
       "      <td>Corporate</td>\n",
       "      <td>United States</td>\n",
       "      <td>West</td>\n",
       "      <td>OFF-LA-10000240</td>\n",
       "      <td>Office Supplies</td>\n",
       "      <td>Self-Adhesive Address Labels for Typewriters b...</td>\n",
       "      <td>14.6200</td>\n",
       "      <td>2.0</td>\n",
       "    </tr>\n",
       "    <tr>\n",
       "      <th>3</th>\n",
       "      <td>US-2015-108966</td>\n",
       "      <td>2015-10-11</td>\n",
       "      <td>SO-20335</td>\n",
       "      <td>Consumer</td>\n",
       "      <td>United States</td>\n",
       "      <td>South</td>\n",
       "      <td>FUR-TA-10000577</td>\n",
       "      <td>Furniture</td>\n",
       "      <td>Bretford CR4500 Series Slim Rectangular Table</td>\n",
       "      <td>957.5775</td>\n",
       "      <td>5.0</td>\n",
       "    </tr>\n",
       "    <tr>\n",
       "      <th>4</th>\n",
       "      <td>US-2015-108966</td>\n",
       "      <td>2015-10-11</td>\n",
       "      <td>SO-20335</td>\n",
       "      <td>Consumer</td>\n",
       "      <td>United States</td>\n",
       "      <td>South</td>\n",
       "      <td>OFF-ST-10000760</td>\n",
       "      <td>Office Supplies</td>\n",
       "      <td>Eldon Fold 'N Roll Cart System</td>\n",
       "      <td>22.3680</td>\n",
       "      <td>2.0</td>\n",
       "    </tr>\n",
       "  </tbody>\n",
       "</table>\n",
       "</div>"
      ],
      "text/plain": [
       "        ID_Pedido Data_Pedido ID_Cliente   Segmento           Pais Regiao  \\\n",
       "0  CA-2016-152156  2016-11-08   CG-12520   Consumer  United States  South   \n",
       "1  CA-2016-152156  2016-11-08   CG-12520   Consumer  United States  South   \n",
       "2  CA-2016-138688  2016-06-12   DV-13045  Corporate  United States   West   \n",
       "3  US-2015-108966  2015-10-11   SO-20335   Consumer  United States  South   \n",
       "4  US-2015-108966  2015-10-11   SO-20335   Consumer  United States  South   \n",
       "\n",
       "        ID_Produto        Categoria  \\\n",
       "0  FUR-BO-10001798        Furniture   \n",
       "1  FUR-CH-10000454        Furniture   \n",
       "2  OFF-LA-10000240  Office Supplies   \n",
       "3  FUR-TA-10000577        Furniture   \n",
       "4  OFF-ST-10000760  Office Supplies   \n",
       "\n",
       "                                        Nome_Produto  Valor_Venda  Quantidade  \n",
       "0                  Bush Somerset Collection Bookcase     261.9600         NaN  \n",
       "1  Hon Deluxe Fabric Upholstered Stacking Chairs,...     731.9400         NaN  \n",
       "2  Self-Adhesive Address Labels for Typewriters b...      14.6200         2.0  \n",
       "3      Bretford CR4500 Series Slim Rectangular Table     957.5775         5.0  \n",
       "4                     Eldon Fold 'N Roll Cart System      22.3680         2.0  "
      ]
     },
     "execution_count": 3,
     "metadata": {},
     "output_type": "execute_result"
    }
   ],
   "source": [
    "df.head()"
   ]
  },
  {
   "cell_type": "code",
   "execution_count": 4,
   "id": "1757f798",
   "metadata": {},
   "outputs": [
    {
     "data": {
      "text/plain": [
       "0    CA-2016-152156\n",
       "1    CA-2016-152156\n",
       "2    CA-2016-138688\n",
       "3    US-2015-108966\n",
       "4    US-2015-108966\n",
       "Name: ID_Pedido, dtype: object"
      ]
     },
     "execution_count": 4,
     "metadata": {},
     "output_type": "execute_result"
    }
   ],
   "source": [
    "df['ID_Pedido'].head()"
   ]
  },
  {
   "cell_type": "markdown",
   "id": "5e5efa4f",
   "metadata": {},
   "source": [
    "Ao analisarmos o ID_Pedido, verificamos que o mesmo é composto por 3 informações: O pais (com duas letras), o ano (4 digitos) e o número do pedido com 6 digitos.\n",
    "Podemos dividir esses dados utilizando split. O resultado será uma lista com os elementos divididos."
   ]
  },
  {
   "cell_type": "code",
   "execution_count": null,
   "id": "d3a619d6",
   "metadata": {},
   "outputs": [],
   "source": [
    "df['ID_Pedido'].str.split('-')"
   ]
  },
  {
   "cell_type": "markdown",
   "id": "d5eb76db",
   "metadata": {},
   "source": [
    "Note que o resultado apresenta uma lista... e cada elemento pode ser acessado pelo seu índice: 0, 1 ou 2.\n",
    "Se quisermos extrair apenas o ano, utilizamos o índice 1."
   ]
  },
  {
   "cell_type": "code",
   "execution_count": null,
   "id": "c0bbb5a7",
   "metadata": {},
   "outputs": [],
   "source": [
    "df['ID_Pedido'].str.split('-').str[1].head()"
   ]
  },
  {
   "cell_type": "markdown",
   "id": "33cad35d",
   "metadata": {},
   "source": [
    "Vamos agora pegar esse resultado e gravar em uma nova coluna do DataFrame... chamada \"Ano\"."
   ]
  },
  {
   "cell_type": "code",
   "execution_count": null,
   "id": "9245b07d",
   "metadata": {},
   "outputs": [],
   "source": [
    "df['Ano'] = df['ID_Pedido'].str.split('-').str[1]"
   ]
  },
  {
   "cell_type": "code",
   "execution_count": null,
   "id": "b557e1fd",
   "metadata": {},
   "outputs": [],
   "source": [
    "#Vamos conferir se a coluna foi criada...\n",
    "df.head()"
   ]
  },
  {
   "cell_type": "markdown",
   "id": "e20e36b6",
   "metadata": {},
   "source": [
    "### Strip de Strings em DataFrames em Pandas\n",
    "Remove caracteres da String"
   ]
  },
  {
   "cell_type": "code",
   "execution_count": null,
   "id": "82bf6366",
   "metadata": {},
   "outputs": [],
   "source": [
    "df['Data_Pedido'].head()"
   ]
  },
  {
   "cell_type": "markdown",
   "id": "217fd505",
   "metadata": {},
   "source": [
    "Vamos supor que precisamos simplificar a data, e deixar o ano apenas com dois digitos... removendo os dois primeiros caracteres '20'."
   ]
  },
  {
   "cell_type": "code",
   "execution_count": null,
   "id": "d69bb779",
   "metadata": {},
   "outputs": [],
   "source": [
    "df['Data_Pedido'].str.lstrip('20')"
   ]
  },
  {
   "cell_type": "markdown",
   "id": "4033a6a6",
   "metadata": {},
   "source": [
    "Como dito anteriormente... os comandos do Pandas, não alteram os valores originais do dataframe.\n",
    "Se quiser alterar, temos que utilizar o parâmetro inplace = True."
   ]
  },
  {
   "cell_type": "markdown",
   "id": "5c8e572f",
   "metadata": {},
   "source": [
    "### Substituição de Strings em DataFrames Pandas (replace)\n",
    "Podemos fazer a substituição de caracteres utilizando o método replace()"
   ]
  },
  {
   "cell_type": "code",
   "execution_count": null,
   "id": "7efa610d",
   "metadata": {},
   "outputs": [],
   "source": [
    "df.head()"
   ]
  },
  {
   "cell_type": "code",
   "execution_count": null,
   "id": "9fdac42e",
   "metadata": {},
   "outputs": [],
   "source": [
    "df['ID_Cliente'] = df['ID_Cliente'].str.replace('CG', 'AX')"
   ]
  },
  {
   "cell_type": "code",
   "execution_count": null,
   "id": "8635cc87",
   "metadata": {},
   "outputs": [],
   "source": [
    "df.head()"
   ]
  },
  {
   "cell_type": "markdown",
   "id": "9cd6dc99",
   "metadata": {},
   "source": [
    "### Combinação de Strings em DataFrames Pandas\n",
    "A função cat() pode ser utilizado para concatenar strings em um dataframe.\n",
    "Vamos fazer a junção (concatenação) das colunas \"ID_Pedido\" e \"Segmento\""
   ]
  },
  {
   "cell_type": "code",
   "execution_count": null,
   "id": "4f5b07e1",
   "metadata": {},
   "outputs": [],
   "source": [
    "df['Pedido_Segmento'] = df['ID_Pedido'].str.cat(df['Segmento'], sep = '-')"
   ]
  },
  {
   "cell_type": "code",
   "execution_count": null,
   "id": "bc03710e",
   "metadata": {},
   "outputs": [],
   "source": [
    "df.head()"
   ]
  },
  {
   "cell_type": "markdown",
   "id": "37695954",
   "metadata": {},
   "source": [
    "### Construção de Gráficos a partir de DataFrames Pandas\n",
    "Além de todos os processos de manipulação de dados, o Pandas também possui algumas funções para exibição de gráficos a partir de dataframes. Vamos ver alguns exemplos..."
   ]
  },
  {
   "cell_type": "code",
   "execution_count": null,
   "id": "bde946c1",
   "metadata": {},
   "outputs": [],
   "source": [
    "# Vamos instalar a versão do Scikit-Learn para termos acesso ao dataset Iris\n",
    "!pip install -q scikit-learn==1.2.1\n",
    "import sklearn\n",
    "sklearn.__version__"
   ]
  },
  {
   "cell_type": "code",
   "execution_count": null,
   "id": "c5ca1727",
   "metadata": {},
   "outputs": [],
   "source": [
    "#Vmos importar o dataset Iris\n",
    "from sklearn.datasets import load_iris\n",
    "data = load_iris()"
   ]
  },
  {
   "cell_type": "code",
   "execution_count": null,
   "id": "9342200d",
   "metadata": {},
   "outputs": [],
   "source": [
    "df_iris = pd.DataFrame(data['data'], columns = data['feature_names'])\n",
    "df_iris['species'] = data['target']\n",
    "df_iris.head()"
   ]
  },
  {
   "cell_type": "code",
   "execution_count": null,
   "id": "3514b394",
   "metadata": {},
   "outputs": [],
   "source": [
    "df_iris.plot()"
   ]
  },
  {
   "cell_type": "code",
   "execution_count": null,
   "id": "6ec61c6f",
   "metadata": {},
   "outputs": [],
   "source": [
    "df_iris.plot.scatter(x = 'sepal length (cm)', y = 'sepal width (cm)')"
   ]
  },
  {
   "cell_type": "code",
   "execution_count": null,
   "id": "39fd6890",
   "metadata": {},
   "outputs": [],
   "source": [
    "#Gráficos mais complexos, com área...\n",
    "columns = ['sepal length (cm)', 'petal length (cm)', 'petal width (cm)', 'sepal width (cm)']\n",
    "df_iris[columns].plot.area()"
   ]
  },
  {
   "cell_type": "code",
   "execution_count": null,
   "id": "0f62fe24",
   "metadata": {},
   "outputs": [],
   "source": [
    "# Calculando a média das colunas agrupadas pela coluna species e criando um gráfico de barras com o resultado\n",
    "df_iris.groupby('species').mean().plot.bar()"
   ]
  },
  {
   "cell_type": "code",
   "execution_count": null,
   "id": "fe4b5f37",
   "metadata": {},
   "outputs": [],
   "source": [
    "#Contagem das classes da coluna species e plotamos um gráfico de pizza\n",
    "df_iris.groupby('species').count().plot.pie(y = 'sepal length (cm)')"
   ]
  },
  {
   "cell_type": "markdown",
   "id": "33134381",
   "metadata": {},
   "source": [
    "## Fim"
   ]
  }
 ],
 "metadata": {
  "kernelspec": {
   "display_name": "Python 3 (ipykernel)",
   "language": "python",
   "name": "python3"
  },
  "language_info": {
   "codemirror_mode": {
    "name": "ipython",
    "version": 3
   },
   "file_extension": ".py",
   "mimetype": "text/x-python",
   "name": "python",
   "nbconvert_exporter": "python",
   "pygments_lexer": "ipython3",
   "version": "3.11.7"
  }
 },
 "nbformat": 4,
 "nbformat_minor": 5
}
